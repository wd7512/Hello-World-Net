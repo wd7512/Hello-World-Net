{
 "cells": [
  {
   "cell_type": "markdown",
   "id": "a7c785d6-c958-4b7e-a5ea-be7e832be92b",
   "metadata": {},
   "source": [
    "# Importing Libraries"
   ]
  },
  {
   "cell_type": "code",
   "execution_count": 1,
   "id": "c2f1871c-5182-43f8-99c4-0c8367037ac5",
   "metadata": {},
   "outputs": [],
   "source": [
    "import Network\n",
    "import Learning\n",
    "import matplotlib.pyplot as plt\n",
    "import numpy as np\n",
    "import Snake_Engine"
   ]
  },
  {
   "cell_type": "markdown",
   "id": "8fab20ae-5880-4e71-b358-8aa07738b580",
   "metadata": {},
   "source": [
    "# Setting up Loss function"
   ]
  },
  {
   "cell_type": "code",
   "execution_count": 2,
   "id": "a164c725-4b83-4d32-bd78-fdd42cbeddd4",
   "metadata": {},
   "outputs": [],
   "source": [
    "def lossFunction(net):\n",
    "    \n",
    "    runs = 100\n",
    "    games = [Snake_Engine.Board() for i in range(runs)]\n",
    "\n",
    "    while all_end(games) == False:\n",
    "        inputs = [game.get_inputs() for game in games]\n",
    "        #for input in inputs:\n",
    "            #print(np.shape(input))\n",
    "        #print(np.shape(inputs),'asa')\n",
    "        outputs = net.forward(inputs)\n",
    "\n",
    "        for i in range(runs):\n",
    "            if games[i].end: #if game has ended\n",
    "                pass\n",
    "            else:\n",
    "                move = np.argmax(outputs[i])\n",
    "                games[i].push(move)\n",
    "\n",
    "    total_points = 0\n",
    "    for game in games:\n",
    "        total_points = total_points + game.food_points + game.move_points\n",
    "\n",
    "    return 1/(total_points/runs)\n",
    "            \n",
    "\n",
    "\n",
    "def all_end(games): #checks if all games have ended\n",
    "    for game in games:\n",
    "        if game.end == True:\n",
    "            pass\n",
    "        else:\n",
    "            return False\n",
    "    return True\n",
    "\n",
    "    "
   ]
  },
  {
   "cell_type": "markdown",
   "id": "7dbd9c5f-fa74-42a4-9c2f-61b0c43ecea2",
   "metadata": {},
   "source": [
    "# Creating Network"
   ]
  },
  {
   "cell_type": "code",
   "execution_count": 3,
   "id": "eee4b073-557e-4d2e-bc34-c99d23e39130",
   "metadata": {},
   "outputs": [
    {
     "data": {
      "text/plain": [
       "0.02702702702702703"
      ]
     },
     "execution_count": 3,
     "metadata": {},
     "output_type": "execute_result"
    }
   ],
   "source": [
    "test_net = Network.network(24,4)\n",
    "test_net.add_layer(Network.layer_dense(24,4))\n",
    "test_net.add_layer(Network.softmax())\n",
    "\n",
    "lossFunction(test_net)"
   ]
  },
  {
   "cell_type": "code",
   "execution_count": 4,
   "id": "151fc269-a0ba-4b28-a242-29e03c1c8cf0",
   "metadata": {
    "scrolled": true
   },
   "outputs": [
    {
     "name": "stdout",
     "output_type": "stream",
     "text": [
      "Iter 0 Loss 0.037037037037037035\n",
      "Iter 1 Loss 0.026702269692923896\n",
      "Iter 2 Loss 0.0211954217888936\n",
      "Iter 3 Loss 0.003460686600221484\n",
      "Iter 4 Loss 0.003155868337172973\n",
      "Iter 5 Loss 0.003052782611350246\n",
      "Iter 6 Loss 0.0028011989131348216\n",
      "Iter 7 Loss 0.002799316966660135\n",
      "Iter 8 Loss 0.002650902632346314\n",
      "Iter 9 Loss 0.0026504108136761197\n",
      "Iter 10 Loss 0.002518574486840448\n",
      "Stopped Due to Max Mutations Reached\n",
      "1967\n"
     ]
    }
   ],
   "source": [
    "losses,data = Learning.random_learning(test_net,lossFunction,max_mutations = 1000,threshold = 1e-7,info=True)\n",
    "print(data[1])"
   ]
  },
  {
   "cell_type": "code",
   "execution_count": 5,
   "id": "0a514dcb-44b6-403e-965e-46b17fba9246",
   "metadata": {},
   "outputs": [
    {
     "data": {
      "text/plain": [
       "<matplotlib.image.AxesImage at 0x12affc97090>"
      ]
     },
     "execution_count": 5,
     "metadata": {},
     "output_type": "execute_result"
    },
    {
     "data": {
      "image/png": "[encoded data removed]",
      "text/plain": [
       "<Figure size 400x1600 with 1 Axes>"
      ]
     },
     "metadata": {},
     "output_type": "display_data"
    }
   ],
   "source": [
    "plt.matshow(test_net.layers[0].weights)"
   ]
  },
  {
   "cell_type": "code",
   "execution_count": 7,
   "id": "6c36e7af-a9ca-4774-8af6-826d4ff887a9",
   "metadata": {},
   "outputs": [
    {
     "name": "stdout",
     "output_type": "stream",
     "text": [
      "X X X X X X X X X X X X X X X \n",
      "X                           X \n",
      "X                           X \n",
      "X                           X \n",
      "X                           X \n",
      "X                           X \n",
      "X             B H         F X \n",
      "X             B             X \n",
      "X                           X \n",
      "X                           X \n",
      "X                           X \n",
      "X                           X \n",
      "X                           X \n",
      "X                           X \n",
      "X X X X X X X X X X X X X X X \n",
      "X X X X X X X X X X X X X X X \n",
      "X                           X \n",
      "X                           X \n",
      "X                           X \n",
      "X                           X \n",
      "X                           X \n",
      "X             B B H       F X \n",
      "X                           X \n",
      "X                           X \n",
      "X                           X \n",
      "X                           X \n",
      "X                           X \n",
      "X                           X \n",
      "X                           X \n",
      "X X X X X X X X X X X X X X X \n",
      "X X X X X X X X X X X X X X X \n",
      "X                           X \n",
      "X                           X \n",
      "X                           X \n",
      "X                           X \n",
      "X                           X \n",
      "X               B B H     F X \n",
      "X                           X \n",
      "X                           X \n",
      "X                           X \n",
      "X                           X \n",
      "X                           X \n",
      "X                           X \n",
      "X                           X \n",
      "X X X X X X X X X X X X X X X \n",
      "X X X X X X X X X X X X X X X \n",
      "X                           X \n",
      "X                           X \n",
      "X                           X \n",
      "X                           X \n",
      "X                           X \n",
      "X                 B B H   F X \n",
      "X                           X \n",
      "X                           X \n",
      "X                           X \n",
      "X                           X \n",
      "X                           X \n",
      "X                           X \n",
      "X                           X \n",
      "X X X X X X X X X X X X X X X \n",
      "X X X X X X X X X X X X X X X \n",
      "X                           X \n",
      "X                           X \n",
      "X                           X \n",
      "X                           X \n",
      "X                           X \n",
      "X                   B B H F X \n",
      "X                           X \n",
      "X                           X \n",
      "X                           X \n",
      "X                           X \n",
      "X                           X \n",
      "X                           X \n",
      "X                           X \n",
      "X X X X X X X X X X X X X X X \n",
      "X X X X X X X X X X X X X X X \n",
      "X                           X \n",
      "X                           X \n",
      "X                           X \n",
      "X                           X \n",
      "X                           X \n",
      "X                   B B B H X \n",
      "X                           X \n",
      "X               F           X \n",
      "X                           X \n",
      "X                           X \n",
      "X                           X \n",
      "X                           X \n",
      "X                           X \n",
      "X X X X X X X X X X X X X X X \n",
      "X X X X X X X X X X X X X X X \n",
      "X                           X \n",
      "X                           X \n",
      "X                           X \n",
      "X                           X \n",
      "X                           X \n",
      "X                     B B B X \n",
      "X                           X \n",
      "X               F           X \n",
      "X                           X \n",
      "X                           X \n",
      "X                           X \n",
      "X                           X \n",
      "X                           X \n",
      "X X X X X X X X X X X X X X X \n"
     ]
    }
   ],
   "source": [
    "\n",
    "game = Snake_Engine.Board()\n",
    "while game.end == False:\n",
    "    game.push(np.argmax(test_net.forward([game.get_inputs()])))\n",
    "    print(game)"
   ]
  },
  {
   "cell_type": "code",
   "execution_count": null,
   "id": "f64aded6-2c1d-4305-aae8-3a26fbda117c",
   "metadata": {},
   "outputs": [],
   "source": []
  },
  {
   "cell_type": "code",
   "execution_count": null,
   "id": "0e0edf9e-06a3-4e3f-85e5-9c8b74f47f51",
   "metadata": {},
   "outputs": [],
   "source": []
  }
 ],
 "metadata": {
  "kernelspec": {
   "display_name": "Python 3 (ipykernel)",
   "language": "python",
   "name": "python3"
  },
  "language_info": {
   "codemirror_mode": {
    "name": "ipython",
    "version": 3
   },
   "file_extension": ".py",
   "mimetype": "text/x-python",
   "name": "python",
   "nbconvert_exporter": "python",
   "pygments_lexer": "ipython3",
   "version": "3.11.5"
  }
 },
 "nbformat": 4,
 "nbformat_minor": 5
}
