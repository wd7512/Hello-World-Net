{
 "cells": [
  {
   "cell_type": "markdown",
   "id": "a7c785d6-c958-4b7e-a5ea-be7e832be92b",
   "metadata": {},
   "source": [
    "# Importing Libraries"
   ]
  },
  {
   "cell_type": "code",
   "execution_count": 1,
   "id": "c2f1871c-5182-43f8-99c4-0c8367037ac5",
   "metadata": {},
   "outputs": [],
   "source": [
    "import Network\n",
    "import Learning\n",
    "import matplotlib.pyplot as plt\n",
    "import numpy as np\n",
    "import Snake_Engine"
   ]
  },
  {
   "cell_type": "markdown",
   "id": "8fab20ae-5880-4e71-b358-8aa07738b580",
   "metadata": {},
   "source": [
    "# Setting up Loss function"
   ]
  },
  {
   "cell_type": "code",
   "execution_count": 2,
   "id": "a164c725-4b83-4d32-bd78-fdd42cbeddd4",
   "metadata": {},
   "outputs": [],
   "source": [
    "def lossFunction(net):\n",
    "    \n",
    "    runs = 100\n",
    "    games = [Snake_Engine.Board() for i in range(runs)]\n",
    "\n",
    "    while all_end(games) == False:\n",
    "        inputs = [game.get_inputs() for game in games]\n",
    "        #for input in inputs:\n",
    "            #print(np.shape(input))\n",
    "        #print(np.shape(inputs),'asa')\n",
    "        outputs = net.forward(inputs)\n",
    "\n",
    "        for i in range(runs):\n",
    "            if games[i].end: #if game has ended\n",
    "                pass\n",
    "            else:\n",
    "                move = np.argmax(outputs[i])\n",
    "                games[i].push(move)\n",
    "\n",
    "    total_points = 0\n",
    "    for game in games:\n",
    "        total_points = total_points + game.food_points + game.move_points\n",
    "\n",
    "    return 1/(total_points/runs)\n",
    "            \n",
    "\n",
    "\n",
    "def all_end(games): #checks if all games have ended\n",
    "    for game in games:\n",
    "        if game.end == True:\n",
    "            pass\n",
    "        else:\n",
    "            return False\n",
    "    return True\n",
    "\n",
    "    "
   ]
  },
  {
   "cell_type": "markdown",
   "id": "7dbd9c5f-fa74-42a4-9c2f-61b0c43ecea2",
   "metadata": {},
   "source": [
    "# Creating Network"
   ]
  },
  {
   "cell_type": "code",
   "execution_count": 3,
   "id": "eee4b073-557e-4d2e-bc34-c99d23e39130",
   "metadata": {},
   "outputs": [
    {
     "data": {
      "text/plain": [
       "0.058823529411764705"
      ]
     },
     "execution_count": 3,
     "metadata": {},
     "output_type": "execute_result"
    }
   ],
   "source": [
    "test_net = Network.network(24,4)\n",
    "test_net.add_layer(Network.layer_dense(24,8))\n",
    "test_net.add_layer(Network.relu())\n",
    "test_net.add_layer(Network.layer_dense(8,8))\n",
    "test_net.add_layer(Network.relu())\n",
    "test_net.add_layer(Network.layer_dense(8,4))\n",
    "test_net.add_layer(Network.softmax())\n",
    "\n",
    "lossFunction(test_net)"
   ]
  },
  {
   "cell_type": "code",
   "execution_count": 4,
   "id": "151fc269-a0ba-4b28-a242-29e03c1c8cf0",
   "metadata": {
    "scrolled": true
   },
   "outputs": [
    {
     "name": "stdout",
     "output_type": "stream",
     "text": [
      "[1, 2, 4, 8, 16, 32]\n",
      "Iter 0 Loss 0.014925373134328358\n",
      "Iter 1 Loss 0.010356255178127589\n",
      "Iter 2 Loss 0.00973709834469328\n",
      "Iter 3 Loss 0.006014314067480603\n",
      "Iter 4 Loss 0.005923819678928973\n",
      "Iter 5 Loss 0.0037174721189591076\n",
      "Iter 6 Loss 0.003253619651862697\n",
      "Iter 7 Loss 0.003232584451268789\n",
      "Iter 8 Loss 0.0031316547663785546\n"
     ]
    },
    {
     "name": "stderr",
     "output_type": "stream",
     "text": [
      "C:\\Users\\wwden\\OneDrive\\Documents\\GitHub\\Hello-World-Net\\V2 - Aug'23\\Network.py:101: RuntimeWarning: overflow encountered in exp\n",
      "  self.function = lambda x : np.exp(x) / np.sum(np.exp(x))\n",
      "C:\\Users\\wwden\\OneDrive\\Documents\\GitHub\\Hello-World-Net\\V2 - Aug'23\\Network.py:101: RuntimeWarning: invalid value encountered in divide\n",
      "  self.function = lambda x : np.exp(x) / np.sum(np.exp(x))\n"
     ]
    },
    {
     "name": "stdout",
     "output_type": "stream",
     "text": [
      "Iter 9 Loss 0.0030381285128360932\n",
      "Iter 10 Loss 0.0021692444521573136\n",
      "Stopped Due to Max Mutations Reached\n",
      "Iter 0 Loss 0.003984381225595665\n",
      "Iter 1 Loss 0.002935995302407516\n",
      "Iter 2 Loss 0.0027987685418415895\n",
      "Iter 3 Loss 0.002516166368920313\n",
      "Stopped Due to Max Mutations Reached\n",
      "Iter 0 Loss 0.005351027397260274\n",
      "Iter 1 Loss 0.0050934650842968466\n",
      "Iter 2 Loss 0.004836993324949211\n",
      "Iter 3 Loss 0.003886664852889735\n",
      "Iter 4 Loss 0.003841868684928349\n",
      "Iter 5 Loss 0.0037370604282671253\n",
      "Iter 6 Loss 0.0032562683165092803\n",
      "Iter 7 Loss 0.003244751614263928\n",
      "Iter 8 Loss 0.0029655111058390915\n",
      "Iter 9 Loss 0.0028789405498776447\n",
      "Iter 10 Loss 0.002650902632346314\n",
      "Iter 11 Loss 0.0026489364520145163\n",
      "Iter 12 Loss 0.0025806451612903226\n",
      "Iter 13 Loss 0.0024542888697999753\n",
      "Iter 14 Loss 0.0024481602076039857\n",
      "Iter 15 Loss 0.0023936042893388867\n",
      "Iter 16 Loss 0.0022715398768825387\n",
      "Iter 17 Loss 0.0021794564435629756\n",
      "Iter 18 Loss 0.002140502590008134\n",
      "Iter 19 Loss 0.0020113439800474677\n",
      "Iter 20 Loss 0.0018926847733509982\n",
      "Iter 21 Loss 0.0017604394056756568\n",
      "Iter 22 Loss 0.0016971013508926753\n",
      "Iter 23 Loss 0.0016673336001067093\n",
      "Iter 24 Loss 0.0016405545074235093\n",
      "Stopped Due to Max Mutations Reached\n",
      "Iter 0 Loss 0.001818975552968568\n",
      "Stopped Due to Max Mutations Reached\n",
      "Iter 0 Loss 0.001514646632940535\n",
      "Stopped Due to Max Mutations Reached\n",
      "Iter 0 Loss 0.002043861262697488\n",
      "Stopped Due to Max Mutations Reached\n"
     ]
    }
   ],
   "source": [
    "steps = [1,2,4,8,16,32]\n",
    "print(steps)\n",
    "losses = []\n",
    "for step in steps:\n",
    "    loss,_ = Learning.random_learning(test_net,lossFunction,max_mutations = 100,threshold = 1e-7,info=True,step=step)\n",
    "    losses = losses + loss\n"
   ]
  },
  {
   "cell_type": "code",
   "execution_count": 5,
   "id": "306b5d6a-0ab3-40ea-868d-db420f5f839b",
   "metadata": {},
   "outputs": [
    {
     "data": {
      "text/plain": [
       "[<matplotlib.lines.Line2D at 0x20076b099d0>]"
      ]
     },
     "execution_count": 5,
     "metadata": {},
     "output_type": "execute_result"
    },
    {
     "data": {
      "image/png": "[encoded data removed]",
      "text/plain": [
       "<Figure size 640x480 with 1 Axes>"
      ]
     },
     "metadata": {},
     "output_type": "display_data"
    }
   ],
   "source": [
    "plt.plot([1/l for l in losses])\n"
   ]
  },
  {
   "cell_type": "code",
   "execution_count": 6,
   "id": "6c36e7af-a9ca-4774-8af6-826d4ff887a9",
   "metadata": {},
   "outputs": [
    {
     "name": "stdout",
     "output_type": "stream",
     "text": [
      "X X X X X X X X X X X X X X X \n",
      "X                           X \n",
      "X                           X \n",
      "X                           X \n",
      "X                 F         X \n",
      "X             H             X \n",
      "X             B             X \n",
      "X             B             X \n",
      "X                           X \n",
      "X                           X \n",
      "X                           X \n",
      "X                           X \n",
      "X                           X \n",
      "X                           X \n",
      "X X X X X X X X X X X X X X X \n",
      "X X X X X X X X X X X X X X X \n",
      "X                           X \n",
      "X                           X \n",
      "X                           X \n",
      "X             H   F         X \n",
      "X             B             X \n",
      "X             B             X \n",
      "X                           X \n",
      "X                           X \n",
      "X                           X \n",
      "X                           X \n",
      "X                           X \n",
      "X                           X \n",
      "X                           X \n",
      "X X X X X X X X X X X X X X X \n",
      "X X X X X X X X X X X X X X X \n",
      "X                           X \n",
      "X                           X \n",
      "X                           X \n",
      "X             B H F         X \n",
      "X             B             X \n",
      "X                           X \n",
      "X                           X \n",
      "X                           X \n",
      "X                           X \n",
      "X                           X \n",
      "X                           X \n",
      "X                           X \n",
      "X                           X \n",
      "X X X X X X X X X X X X X X X \n",
      "X X X X X X X X X X X X X X X \n",
      "X                           X \n",
      "X                           X \n",
      "X                           X \n",
      "X         F   B B H         X \n",
      "X             B             X \n",
      "X                           X \n",
      "X                           X \n",
      "X                           X \n",
      "X                           X \n",
      "X                           X \n",
      "X                           X \n",
      "X                           X \n",
      "X                           X \n",
      "X X X X X X X X X X X X X X X \n",
      "X X X X X X X X X X X X X X X \n",
      "X                           X \n",
      "X                           X \n",
      "X                           X \n",
      "X         F   B H B         X \n",
      "X                           X \n",
      "X                           X \n",
      "X                           X \n",
      "X                           X \n",
      "X                           X \n",
      "X                           X \n",
      "X                           X \n",
      "X                           X \n",
      "X                           X \n",
      "X X X X X X X X X X X X X X X \n"
     ]
    }
   ],
   "source": [
    "\n",
    "game = Snake_Engine.Board()\n",
    "while game.end == False:\n",
    "    game.push(np.argmax(test_net.forward([game.get_inputs()])))\n",
    "    print(game)"
   ]
  },
  {
   "cell_type": "code",
   "execution_count": 7,
   "id": "17b61245-fe19-47a0-82eb-6a5f6523501f",
   "metadata": {},
   "outputs": [
    {
     "data": {
      "text/plain": [
       "1005"
      ]
     },
     "execution_count": 7,
     "metadata": {},
     "output_type": "execute_result"
    }
   ],
   "source": [
    "game.food_points+game.move_points"
   ]
  },
  {
   "cell_type": "code",
   "execution_count": null,
   "id": "195ce3c4-b7d4-46c3-906c-256c59d5083c",
   "metadata": {},
   "outputs": [],
   "source": []
  }
 ],
 "metadata": {
  "kernelspec": {
   "display_name": "Python 3 (ipykernel)",
   "language": "python",
   "name": "python3"
  },
  "language_info": {
   "codemirror_mode": {
    "name": "ipython",
    "version": 3
   },
   "file_extension": ".py",
   "mimetype": "text/x-python",
   "name": "python",
   "nbconvert_exporter": "python",
   "pygments_lexer": "ipython3",
   "version": "3.11.5"
  }
 },
 "nbformat": 4,
 "nbformat_minor": 5
}
